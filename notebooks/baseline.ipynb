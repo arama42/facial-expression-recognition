{
 "cells": [
  {
   "cell_type": "markdown",
   "metadata": {
    "id": "3a8LLk5xxq_c"
   },
   "source": [
    "### Imports"
   ]
  },
  {
   "cell_type": "code",
   "execution_count": 18,
   "metadata": {
    "id": "Q9a9AhYLxmAk"
   },
   "outputs": [],
   "source": [
    "import pandas as pd\n",
    "from sklearn.linear_model import LogisticRegression\n",
    "from sklearn.neighbors import KNeighborsClassifier\n",
    "from sklearn.ensemble import RandomForestClassifier\n",
    "from sklearn.naive_bayes import GaussianNB\n",
    "from sklearn.neural_network import MLPClassifier\n",
    "from sklearn.metrics import classification_report\n",
    "import os\n",
    "import warnings"
   ]
  },
  {
   "cell_type": "code",
   "execution_count": 19,
   "metadata": {},
   "outputs": [],
   "source": [
    "warnings.filterwarnings('ignore')"
   ]
  },
  {
   "cell_type": "markdown",
   "metadata": {
    "id": "87Sz2QMfxvF1"
   },
   "source": [
    "### Read Data"
   ]
  },
  {
   "cell_type": "code",
   "execution_count": 20,
   "metadata": {
    "colab": {
     "base_uri": "https://localhost:8080/"
    },
    "id": "rj_RL_5tx1sS",
    "outputId": "d9781965-8414-4675-b78e-8c47f008b091"
   },
   "outputs": [
    {
     "name": "stdout",
     "output_type": "stream",
     "text": [
      "(12271, 772)\n",
      "(3068, 772)\n"
     ]
    }
   ],
   "source": [
    "train_df = pd.read_csv('../data/Annotation/joined/joined_train.csv', index_col='id')\n",
    "test_df = pd.read_csv('../data/Annotation/joined/joined_test.csv', index_col='id')\n",
    "print(train_df.shape)\n",
    "print(test_df.shape)"
   ]
  },
  {
   "cell_type": "markdown",
   "metadata": {},
   "source": [
    "### Baseline Models"
   ]
  },
  {
   "cell_type": "code",
   "execution_count": 21,
   "metadata": {
    "id": "nAit15lp7SVn"
   },
   "outputs": [],
   "source": [
    "#initialize base models with default params\n",
    "lr = LogisticRegression()\n",
    "knn = KNeighborsClassifier()\n",
    "rf = RandomForestClassifier()\n",
    "gnb = GaussianNB()\n",
    "mlp = MLPClassifier()"
   ]
  },
  {
   "cell_type": "code",
   "execution_count": 22,
   "metadata": {
    "id": "ViHCfhKR7iT3"
   },
   "outputs": [],
   "source": [
    "def print_classification_report(y_true, y_pred, filename):\n",
    "    cls_report = classification_report(y_true, y_pred)\n",
    "    print('\\nClassification Report')\n",
    "    print('======================================================')\n",
    "    print('\\n', cls_report)\n",
    "    with open(os.path.join('../metrics', filename), 'w+') as f:\n",
    "        f.write(cls_report)"
   ]
  },
  {
   "cell_type": "code",
   "execution_count": 23,
   "metadata": {},
   "outputs": [],
   "source": [
    "train = train_df.drop(columns=['label'])\n",
    "test = test_df.drop(columns=['label'])"
   ]
  },
  {
   "cell_type": "code",
   "execution_count": 24,
   "metadata": {
    "colab": {
     "base_uri": "https://localhost:8080/",
     "height": 756
    },
    "id": "RGh7riVN7Xd_",
    "outputId": "14353dd8-8698-496b-f14d-466bfd86f10d"
   },
   "outputs": [
    {
     "name": "stdout",
     "output_type": "stream",
     "text": [
      "\n",
      "Classification Report\n",
      "======================================================\n",
      "\n",
      "               precision    recall  f1-score   support\n",
      "\n",
      "           0       0.62      0.58      0.60       329\n",
      "           1       0.43      0.04      0.07        74\n",
      "           2       0.44      0.03      0.05       160\n",
      "           3       0.75      0.86      0.80      1185\n",
      "           4       0.51      0.46      0.48       478\n",
      "           5       0.57      0.51      0.54       162\n",
      "           6       0.58      0.70      0.64       680\n",
      "\n",
      "    accuracy                           0.65      3068\n",
      "   macro avg       0.56      0.45      0.45      3068\n",
      "weighted avg       0.63      0.65      0.62      3068\n",
      "\n"
     ]
    }
   ],
   "source": [
    "lr.fit(train, train_df['label'])\n",
    "pred = lr.predict(test)\n",
    "print_classification_report(test_df['label'], pred, 'sklearn_lr.txt')"
   ]
  },
  {
   "cell_type": "code",
   "execution_count": 25,
   "metadata": {
    "id": "GFWbz76671-L"
   },
   "outputs": [
    {
     "name": "stdout",
     "output_type": "stream",
     "text": [
      "\n",
      "Classification Report\n",
      "======================================================\n",
      "\n",
      "               precision    recall  f1-score   support\n",
      "\n",
      "           0       0.41      0.43      0.42       329\n",
      "           1       0.22      0.09      0.13        74\n",
      "           2       0.14      0.09      0.11       160\n",
      "           3       0.62      0.74      0.67      1185\n",
      "           4       0.39      0.33      0.36       478\n",
      "           5       0.53      0.22      0.31       162\n",
      "           6       0.48      0.47      0.48       680\n",
      "\n",
      "    accuracy                           0.51      3068\n",
      "   macro avg       0.40      0.34      0.35      3068\n",
      "weighted avg       0.49      0.51      0.49      3068\n",
      "\n"
     ]
    }
   ],
   "source": [
    "knn.fit(train, train_df['label'])\n",
    "pred = knn.predict(test)\n",
    "print_classification_report(test_df['label'], pred, 'sklearn_knn.txt')"
   ]
  },
  {
   "cell_type": "code",
   "execution_count": 26,
   "metadata": {
    "id": "y4qxA5Pp783P"
   },
   "outputs": [
    {
     "name": "stdout",
     "output_type": "stream",
     "text": [
      "\n",
      "Classification Report\n",
      "======================================================\n",
      "\n",
      "               precision    recall  f1-score   support\n",
      "\n",
      "           0       0.68      0.57      0.62       329\n",
      "           1       0.56      0.07      0.12        74\n",
      "           2       0.82      0.06      0.11       160\n",
      "           3       0.70      0.86      0.77      1185\n",
      "           4       0.44      0.23      0.30       478\n",
      "           5       0.64      0.31      0.42       162\n",
      "           6       0.53      0.78      0.63       680\n",
      "\n",
      "    accuracy                           0.62      3068\n",
      "   macro avg       0.62      0.41      0.42      3068\n",
      "weighted avg       0.62      0.62      0.58      3068\n",
      "\n"
     ]
    }
   ],
   "source": [
    "rf.fit(train, train_df['label'])\n",
    "pred = rf.predict(test)\n",
    "print_classification_report(test_df['label'], pred, 'sklearn_rf.txt')"
   ]
  },
  {
   "cell_type": "code",
   "execution_count": 27,
   "metadata": {
    "id": "9Ij53uuZ8BNJ"
   },
   "outputs": [
    {
     "name": "stdout",
     "output_type": "stream",
     "text": [
      "\n",
      "Classification Report\n",
      "======================================================\n",
      "\n",
      "               precision    recall  f1-score   support\n",
      "\n",
      "           0       0.35      0.34      0.34       329\n",
      "           1       0.12      0.28      0.17        74\n",
      "           2       0.10      0.68      0.17       160\n",
      "           3       0.75      0.62      0.68      1185\n",
      "           4       0.28      0.21      0.24       478\n",
      "           5       0.45      0.21      0.29       162\n",
      "           6       0.29      0.00      0.01       680\n",
      "\n",
      "    accuracy                           0.36      3068\n",
      "   macro avg       0.33      0.34      0.27      3068\n",
      "weighted avg       0.46      0.36      0.37      3068\n",
      "\n"
     ]
    }
   ],
   "source": [
    "gnb.fit(train, train_df['label'])\n",
    "pred = gnb.predict(test)\n",
    "print_classification_report(test_df['label'], pred, 'sklearn_gnb.txt')"
   ]
  },
  {
   "cell_type": "code",
   "execution_count": null,
   "metadata": {
    "id": "E_VHDaw68BnV"
   },
   "outputs": [],
   "source": [
    "mlp.fit(train, train_df['label'])\n",
    "pred = mlp.predict(test)\n",
    "print_classification_report(test_df['label'], pred, 'sklearn_mlp.txt')"
   ]
  }
 ],
 "metadata": {
  "colab": {
   "provenance": []
  },
  "kernelspec": {
   "display_name": "Python 3 (ipykernel)",
   "language": "python",
   "name": "python3"
  },
  "language_info": {
   "codemirror_mode": {
    "name": "ipython",
    "version": 3
   },
   "file_extension": ".py",
   "mimetype": "text/x-python",
   "name": "python",
   "nbconvert_exporter": "python",
   "pygments_lexer": "ipython3",
   "version": "3.9.12"
  }
 },
 "nbformat": 4,
 "nbformat_minor": 1
}
