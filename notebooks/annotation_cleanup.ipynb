{
 "cells": [
  {
   "cell_type": "code",
   "execution_count": 119,
   "id": "553ee2b8-9d85-4e1d-99cd-64cbc73c6672",
   "metadata": {},
   "outputs": [],
   "source": [
    "import pandas as pd\n",
    "import numpy as np"
   ]
  },
  {
   "cell_type": "code",
   "execution_count": 120,
   "id": "a419b3cc-7f79-44ba-8264-a25d6d07bc6c",
   "metadata": {},
   "outputs": [],
   "source": [
    "bb_train = pd.read_csv('../data/Annotation/boundingbox/bb_train.csv', index_col='id')\n",
    "bb_test = pd.read_csv('../data/Annotation/boundingbox/bb_test.csv', index_col='id')\n",
    "manual_train = pd.read_csv('../data/Annotation/manual/filled_manual_train.csv', index_col='id')\n",
    "manual_test = pd.read_csv('../data/Annotation/manual/filled_manual_test.csv', index_col='id')\n",
    "# manual_train = pd.read_csv('../data/Annotation/auto/auto_train.csv', index_col='id')\n",
    "# manual_test = pd.read_csv('../data/Annotation/auto/auto_test.csv', index_col='id')"
   ]
  },
  {
   "cell_type": "code",
   "execution_count": 121,
   "id": "631585f1-8ff1-425e-acd5-2731517a2d6b",
   "metadata": {},
   "outputs": [],
   "source": [
    "train_join = manual_train.join(bb_train)\n",
    "test_join = manual_test.join(bb_test)"
   ]
  },
  {
   "cell_type": "code",
   "execution_count": 122,
   "id": "d6115c80-fd25-4857-af35-d95a7bca9e08",
   "metadata": {},
   "outputs": [
    {
     "data": {
      "text/html": [
       "<div>\n",
       "<style scoped>\n",
       "    .dataframe tbody tr th:only-of-type {\n",
       "        vertical-align: middle;\n",
       "    }\n",
       "\n",
       "    .dataframe tbody tr th {\n",
       "        vertical-align: top;\n",
       "    }\n",
       "\n",
       "    .dataframe thead th {\n",
       "        text-align: right;\n",
       "    }\n",
       "</style>\n",
       "<table border=\"1\" class=\"dataframe\">\n",
       "  <thead>\n",
       "    <tr style=\"text-align: right;\">\n",
       "      <th></th>\n",
       "      <th>manual_1_X</th>\n",
       "      <th>manual_1_Y</th>\n",
       "      <th>manual_2_X</th>\n",
       "      <th>manual_2_Y</th>\n",
       "      <th>manual_3_X</th>\n",
       "      <th>manual_3_Y</th>\n",
       "      <th>manual_4_X</th>\n",
       "      <th>manual_4_Y</th>\n",
       "      <th>manual_5_X</th>\n",
       "      <th>manual_5_Y</th>\n",
       "      <th>Gender</th>\n",
       "      <th>Race</th>\n",
       "      <th>Age</th>\n",
       "      <th>bb_1_pt1</th>\n",
       "      <th>bb_1_pt2</th>\n",
       "      <th>bb_1_pt3</th>\n",
       "      <th>bb_1_pt4</th>\n",
       "    </tr>\n",
       "    <tr>\n",
       "      <th>id</th>\n",
       "      <th></th>\n",
       "      <th></th>\n",
       "      <th></th>\n",
       "      <th></th>\n",
       "      <th></th>\n",
       "      <th></th>\n",
       "      <th></th>\n",
       "      <th></th>\n",
       "      <th></th>\n",
       "      <th></th>\n",
       "      <th></th>\n",
       "      <th></th>\n",
       "      <th></th>\n",
       "      <th></th>\n",
       "      <th></th>\n",
       "      <th></th>\n",
       "      <th></th>\n",
       "    </tr>\n",
       "  </thead>\n",
       "  <tbody>\n",
       "    <tr>\n",
       "      <th>3396</th>\n",
       "      <td>49.717</td>\n",
       "      <td>52.668</td>\n",
       "      <td>66.047</td>\n",
       "      <td>53.490</td>\n",
       "      <td>56.588</td>\n",
       "      <td>63.745</td>\n",
       "      <td>46.746</td>\n",
       "      <td>65.425</td>\n",
       "      <td>66.696</td>\n",
       "      <td>68.856</td>\n",
       "      <td>0</td>\n",
       "      <td>0</td>\n",
       "      <td>2</td>\n",
       "      <td>38.242939</td>\n",
       "      <td>31.359859</td>\n",
       "      <td>74.649460</td>\n",
       "      <td>78.644226</td>\n",
       "    </tr>\n",
       "    <tr>\n",
       "      <th>4548</th>\n",
       "      <td>263.424</td>\n",
       "      <td>256.442</td>\n",
       "      <td>345.468</td>\n",
       "      <td>230.839</td>\n",
       "      <td>357.105</td>\n",
       "      <td>317.538</td>\n",
       "      <td>277.971</td>\n",
       "      <td>379.216</td>\n",
       "      <td>342.558</td>\n",
       "      <td>368.743</td>\n",
       "      <td>1</td>\n",
       "      <td>0</td>\n",
       "      <td>2</td>\n",
       "      <td>105.271286</td>\n",
       "      <td>107.973785</td>\n",
       "      <td>365.024323</td>\n",
       "      <td>438.301300</td>\n",
       "    </tr>\n",
       "    <tr>\n",
       "      <th>3383</th>\n",
       "      <td>153.938</td>\n",
       "      <td>168.343</td>\n",
       "      <td>222.093</td>\n",
       "      <td>173.324</td>\n",
       "      <td>189.314</td>\n",
       "      <td>209.578</td>\n",
       "      <td>152.332</td>\n",
       "      <td>237.299</td>\n",
       "      <td>215.898</td>\n",
       "      <td>239.318</td>\n",
       "      <td>1</td>\n",
       "      <td>0</td>\n",
       "      <td>3</td>\n",
       "      <td>111.392014</td>\n",
       "      <td>92.749931</td>\n",
       "      <td>250.398315</td>\n",
       "      <td>287.923401</td>\n",
       "    </tr>\n",
       "    <tr>\n",
       "      <th>11406</th>\n",
       "      <td>48.938</td>\n",
       "      <td>49.313</td>\n",
       "      <td>68.188</td>\n",
       "      <td>53.125</td>\n",
       "      <td>56.813</td>\n",
       "      <td>65.000</td>\n",
       "      <td>46.188</td>\n",
       "      <td>69.250</td>\n",
       "      <td>63.250</td>\n",
       "      <td>71.813</td>\n",
       "      <td>0</td>\n",
       "      <td>0</td>\n",
       "      <td>2</td>\n",
       "      <td>37.502903</td>\n",
       "      <td>31.234165</td>\n",
       "      <td>76.062981</td>\n",
       "      <td>81.005188</td>\n",
       "    </tr>\n",
       "    <tr>\n",
       "      <th>11413</th>\n",
       "      <td>347.057</td>\n",
       "      <td>377.877</td>\n",
       "      <td>480.759</td>\n",
       "      <td>377.908</td>\n",
       "      <td>391.157</td>\n",
       "      <td>441.117</td>\n",
       "      <td>347.146</td>\n",
       "      <td>526.761</td>\n",
       "      <td>467.286</td>\n",
       "      <td>524.382</td>\n",
       "      <td>0</td>\n",
       "      <td>0</td>\n",
       "      <td>3</td>\n",
       "      <td>277.475494</td>\n",
       "      <td>210.256927</td>\n",
       "      <td>563.360474</td>\n",
       "      <td>612.510742</td>\n",
       "    </tr>\n",
       "    <tr>\n",
       "      <th>...</th>\n",
       "      <td>...</td>\n",
       "      <td>...</td>\n",
       "      <td>...</td>\n",
       "      <td>...</td>\n",
       "      <td>...</td>\n",
       "      <td>...</td>\n",
       "      <td>...</td>\n",
       "      <td>...</td>\n",
       "      <td>...</td>\n",
       "      <td>...</td>\n",
       "      <td>...</td>\n",
       "      <td>...</td>\n",
       "      <td>...</td>\n",
       "      <td>...</td>\n",
       "      <td>...</td>\n",
       "      <td>...</td>\n",
       "      <td>...</td>\n",
       "    </tr>\n",
       "    <tr>\n",
       "      <th>2411</th>\n",
       "      <td>38.238</td>\n",
       "      <td>46.854</td>\n",
       "      <td>53.133</td>\n",
       "      <td>42.181</td>\n",
       "      <td>45.102</td>\n",
       "      <td>54.886</td>\n",
       "      <td>48.314</td>\n",
       "      <td>60.435</td>\n",
       "      <td>57.076</td>\n",
       "      <td>57.660</td>\n",
       "      <td>1</td>\n",
       "      <td>0</td>\n",
       "      <td>2</td>\n",
       "      <td>33.351357</td>\n",
       "      <td>23.345911</td>\n",
       "      <td>71.284134</td>\n",
       "      <td>67.461609</td>\n",
       "    </tr>\n",
       "    <tr>\n",
       "      <th>11365</th>\n",
       "      <td>47.230</td>\n",
       "      <td>53.162</td>\n",
       "      <td>66.246</td>\n",
       "      <td>52.639</td>\n",
       "      <td>59.442</td>\n",
       "      <td>63.106</td>\n",
       "      <td>48.931</td>\n",
       "      <td>72.090</td>\n",
       "      <td>63.186</td>\n",
       "      <td>71.966</td>\n",
       "      <td>1</td>\n",
       "      <td>0</td>\n",
       "      <td>1</td>\n",
       "      <td>35.804913</td>\n",
       "      <td>33.686436</td>\n",
       "      <td>73.521980</td>\n",
       "      <td>80.800629</td>\n",
       "    </tr>\n",
       "    <tr>\n",
       "      <th>11370</th>\n",
       "      <td>180.272</td>\n",
       "      <td>205.277</td>\n",
       "      <td>261.871</td>\n",
       "      <td>200.166</td>\n",
       "      <td>220.109</td>\n",
       "      <td>252.183</td>\n",
       "      <td>197.122</td>\n",
       "      <td>290.871</td>\n",
       "      <td>253.196</td>\n",
       "      <td>286.607</td>\n",
       "      <td>1</td>\n",
       "      <td>0</td>\n",
       "      <td>2</td>\n",
       "      <td>137.374619</td>\n",
       "      <td>120.728912</td>\n",
       "      <td>303.003326</td>\n",
       "      <td>336.257202</td>\n",
       "    </tr>\n",
       "    <tr>\n",
       "      <th>6737</th>\n",
       "      <td>160.214</td>\n",
       "      <td>161.302</td>\n",
       "      <td>234.841</td>\n",
       "      <td>179.932</td>\n",
       "      <td>177.629</td>\n",
       "      <td>213.338</td>\n",
       "      <td>158.430</td>\n",
       "      <td>237.913</td>\n",
       "      <td>227.929</td>\n",
       "      <td>257.111</td>\n",
       "      <td>1</td>\n",
       "      <td>0</td>\n",
       "      <td>1</td>\n",
       "      <td>119.377136</td>\n",
       "      <td>62.787323</td>\n",
       "      <td>278.217499</td>\n",
       "      <td>309.293762</td>\n",
       "    </tr>\n",
       "    <tr>\n",
       "      <th>6722</th>\n",
       "      <td>301.177</td>\n",
       "      <td>315.950</td>\n",
       "      <td>415.373</td>\n",
       "      <td>317.416</td>\n",
       "      <td>359.218</td>\n",
       "      <td>364.282</td>\n",
       "      <td>302.197</td>\n",
       "      <td>436.609</td>\n",
       "      <td>398.486</td>\n",
       "      <td>438.842</td>\n",
       "      <td>0</td>\n",
       "      <td>0</td>\n",
       "      <td>1</td>\n",
       "      <td>229.639435</td>\n",
       "      <td>170.193634</td>\n",
       "      <td>486.855072</td>\n",
       "      <td>498.448822</td>\n",
       "    </tr>\n",
       "  </tbody>\n",
       "</table>\n",
       "<p>12271 rows × 17 columns</p>\n",
       "</div>"
      ],
      "text/plain": [
       "       manual_1_X  manual_1_Y  manual_2_X  manual_2_Y  manual_3_X  manual_3_Y  \\\n",
       "id                                                                              \n",
       "3396       49.717      52.668      66.047      53.490      56.588      63.745   \n",
       "4548      263.424     256.442     345.468     230.839     357.105     317.538   \n",
       "3383      153.938     168.343     222.093     173.324     189.314     209.578   \n",
       "11406      48.938      49.313      68.188      53.125      56.813      65.000   \n",
       "11413     347.057     377.877     480.759     377.908     391.157     441.117   \n",
       "...           ...         ...         ...         ...         ...         ...   \n",
       "2411       38.238      46.854      53.133      42.181      45.102      54.886   \n",
       "11365      47.230      53.162      66.246      52.639      59.442      63.106   \n",
       "11370     180.272     205.277     261.871     200.166     220.109     252.183   \n",
       "6737      160.214     161.302     234.841     179.932     177.629     213.338   \n",
       "6722      301.177     315.950     415.373     317.416     359.218     364.282   \n",
       "\n",
       "       manual_4_X  manual_4_Y  manual_5_X  manual_5_Y  Gender  Race  Age  \\\n",
       "id                                                                         \n",
       "3396       46.746      65.425      66.696      68.856       0     0    2   \n",
       "4548      277.971     379.216     342.558     368.743       1     0    2   \n",
       "3383      152.332     237.299     215.898     239.318       1     0    3   \n",
       "11406      46.188      69.250      63.250      71.813       0     0    2   \n",
       "11413     347.146     526.761     467.286     524.382       0     0    3   \n",
       "...           ...         ...         ...         ...     ...   ...  ...   \n",
       "2411       48.314      60.435      57.076      57.660       1     0    2   \n",
       "11365      48.931      72.090      63.186      71.966       1     0    1   \n",
       "11370     197.122     290.871     253.196     286.607       1     0    2   \n",
       "6737      158.430     237.913     227.929     257.111       1     0    1   \n",
       "6722      302.197     436.609     398.486     438.842       0     0    1   \n",
       "\n",
       "         bb_1_pt1    bb_1_pt2    bb_1_pt3    bb_1_pt4  \n",
       "id                                                     \n",
       "3396    38.242939   31.359859   74.649460   78.644226  \n",
       "4548   105.271286  107.973785  365.024323  438.301300  \n",
       "3383   111.392014   92.749931  250.398315  287.923401  \n",
       "11406   37.502903   31.234165   76.062981   81.005188  \n",
       "11413  277.475494  210.256927  563.360474  612.510742  \n",
       "...           ...         ...         ...         ...  \n",
       "2411    33.351357   23.345911   71.284134   67.461609  \n",
       "11365   35.804913   33.686436   73.521980   80.800629  \n",
       "11370  137.374619  120.728912  303.003326  336.257202  \n",
       "6737   119.377136   62.787323  278.217499  309.293762  \n",
       "6722   229.639435  170.193634  486.855072  498.448822  \n",
       "\n",
       "[12271 rows x 17 columns]"
      ]
     },
     "execution_count": 122,
     "metadata": {},
     "output_type": "execute_result"
    }
   ],
   "source": [
    "train_join"
   ]
  },
  {
   "cell_type": "code",
   "execution_count": 123,
   "id": "d9a42cd3-c439-41fc-a93e-3a36917fa2c6",
   "metadata": {},
   "outputs": [],
   "source": [
    "X_cols = [f'manual_{i}_X' for i in range(1, 6)]\n",
    "Y_cols = [f'manual_{i}_Y' for i in range(1, 6)]\n",
    "\n",
    "categorical_cols = ['Gender', 'Race', 'Age']\n",
    "\n",
    "def standardize(df):\n",
    "    X_df = df[X_cols].subtract(df['bb_1_pt1'], axis=0).divide(df['bb_1_pt3'] - df['bb_1_pt1'], axis=0)\n",
    "    Y_df = df[Y_cols].subtract(df['bb_1_pt2'], axis=0).divide(df['bb_1_pt4'] - df['bb_1_pt2'], axis=0)\n",
    "    categorical_df = df[categorical_cols]\n",
    "    return X_df.join(Y_df).join(categorical_df)"
   ]
  },
  {
   "cell_type": "code",
   "execution_count": 104,
   "id": "665faa8e-da3f-4725-88a7-55b5003e8327",
   "metadata": {},
   "outputs": [],
   "source": [
    "# X_cols = [f'auto_{i}_X' for i in range(1, 37)]\n",
    "# Y_cols = [f'auto_{i}_Y' for i in range(1, 37)]\n",
    "\n",
    "# def standardize(df):\n",
    "#     X_df = df[X_cols].subtract(df['bb_1_pt1'], axis=0).divide(df['bb_1_pt3'] - df['bb_1_pt1'], axis=0)\n",
    "#     Y_df = df[Y_cols].subtract(df['bb_1_pt2'], axis=0).divide(df['bb_1_pt4'] - df['bb_1_pt2'], axis=0)\n",
    "#     return X_df.join(Y_df)"
   ]
  },
  {
   "cell_type": "code",
   "execution_count": 124,
   "id": "91211386-2def-4f49-a7db-40954360af0c",
   "metadata": {},
   "outputs": [],
   "source": [
    "std_train = standardize(train_join)\n",
    "std_test = standardize(test_join)"
   ]
  },
  {
   "cell_type": "code",
   "execution_count": 125,
   "id": "380c4e40-dc6e-423b-8345-2ae3d1e61a0a",
   "metadata": {},
   "outputs": [],
   "source": [
    "#read true labels\n",
    "labels = pd.read_table('../data/basic/EmoLabel/list_patition_label.txt', sep=' ', header=None)"
   ]
  },
  {
   "cell_type": "code",
   "execution_count": 126,
   "id": "5b8da271-961b-47c2-94cf-e74f50b91025",
   "metadata": {},
   "outputs": [],
   "source": [
    "#separate train and test labels\n",
    "train_labels = {}\n",
    "test_labels = {}\n",
    "for index, row in labels.iterrows():\n",
    "    if 'train' in row[0]:\n",
    "        split_id = row[0].split('_')[1].split('.')[0]\n",
    "        train_labels.update({int(split_id): row[1]})\n",
    "    elif 'test' in row[0]:\n",
    "        split_id = row[0].split('_')[1].split('.')[0]\n",
    "        test_labels.update({int(split_id): row[1]})\n",
    "        \n",
    "train_classes = [-1]*len(train_labels)\n",
    "for k, v in train_labels.items():\n",
    "    train_classes[int(k)-1] = v\n",
    "\n",
    "test_classes = [-1]*len(test_labels)\n",
    "for k, v in test_labels.items():\n",
    "    test_classes[int(k)-1] = v"
   ]
  },
  {
   "cell_type": "code",
   "execution_count": 127,
   "id": "3fad84e9-f5a4-4ca5-b78d-5dbcbb7acf7c",
   "metadata": {},
   "outputs": [
    {
     "data": {
      "text/plain": [
       "12271"
      ]
     },
     "execution_count": 127,
     "metadata": {},
     "output_type": "execute_result"
    }
   ],
   "source": [
    "len(train_labels)"
   ]
  },
  {
   "cell_type": "code",
   "execution_count": 128,
   "id": "f8f9257e-b61d-43fb-903e-00179fcb2632",
   "metadata": {},
   "outputs": [
    {
     "data": {
      "text/plain": [
       "3068"
      ]
     },
     "execution_count": 128,
     "metadata": {},
     "output_type": "execute_result"
    }
   ],
   "source": [
    "len(test_labels)"
   ]
  },
  {
   "cell_type": "code",
   "execution_count": 129,
   "id": "d119bc76-f168-4cb6-a361-f42445699f10",
   "metadata": {},
   "outputs": [],
   "source": [
    "std_train['label'] = pd.Series(train_labels)\n",
    "std_test['label'] = pd.Series(test_labels)"
   ]
  },
  {
   "cell_type": "code",
   "execution_count": 130,
   "id": "95a3144f-c19c-4e0d-a502-209aff6d8a38",
   "metadata": {},
   "outputs": [],
   "source": [
    "std_train_dummies = pd.get_dummies(std_train, columns=['Gender', 'Race', 'Age'])\n",
    "std_test_dummies = pd.get_dummies(std_test, columns=['Gender', 'Race', 'Age'])"
   ]
  },
  {
   "cell_type": "code",
   "execution_count": 131,
   "id": "c6303e94-26eb-4250-9425-2754ca0e8891",
   "metadata": {},
   "outputs": [],
   "source": [
    "from sklearn.linear_model import LogisticRegression"
   ]
  },
  {
   "cell_type": "code",
   "execution_count": 132,
   "id": "636496af-144e-4ff7-af9e-cecc9b37243d",
   "metadata": {},
   "outputs": [],
   "source": [
    "clf = LogisticRegression(max_iter=500).fit(std_train_dummies.drop(columns=['label']),\n",
    "                               std_train_dummies['label'])"
   ]
  },
  {
   "cell_type": "code",
   "execution_count": 133,
   "id": "923ba18f-aafc-4890-bd0f-a96a0e79d499",
   "metadata": {},
   "outputs": [
    {
     "data": {
      "text/plain": [
       "0.5371577574967406"
      ]
     },
     "execution_count": 133,
     "metadata": {},
     "output_type": "execute_result"
    }
   ],
   "source": [
    "clf.score(std_test_dummies.drop(columns=['label']), std_test_dummies['label'])"
   ]
  },
  {
   "cell_type": "code",
   "execution_count": 115,
   "id": "e94bd195-f55c-4015-a3e6-05d8702ad650",
   "metadata": {},
   "outputs": [],
   "source": [
    "# clf = LogisticRegression(max_iter=1000).fit(std_train.drop(columns=['label']),\n",
    "#                                std_train['label'])"
   ]
  },
  {
   "cell_type": "code",
   "execution_count": 116,
   "id": "e5dddba5-7d4d-451a-bc00-fb6025ec503c",
   "metadata": {},
   "outputs": [
    {
     "data": {
      "text/plain": [
       "0.5945241199478487"
      ]
     },
     "execution_count": 116,
     "metadata": {},
     "output_type": "execute_result"
    }
   ],
   "source": [
    "# clf.score(std_test.drop(columns=['label']), std_test['label'])"
   ]
  },
  {
   "cell_type": "code",
   "execution_count": 134,
   "id": "47488214-a4d6-40bb-b4e0-8ad113e9e1f6",
   "metadata": {},
   "outputs": [],
   "source": [
    "# std_train.to_csv('../data/Annotation/auto/auto_std_train.csv')\n",
    "# std_test.to_csv('../data/Annotation/auto/auto_std_test.csv')"
   ]
  },
  {
   "cell_type": "code",
   "execution_count": null,
   "id": "04ac53e7-7683-4eeb-a216-064eda0192e5",
   "metadata": {},
   "outputs": [],
   "source": [
    "std_train.to_csv('../data/Annotation/manual/manual_std_train.csv')\n",
    "std_test.to_csv('../data/Annotation/manual/manual_std_test.csv')"
   ]
  }
 ],
 "metadata": {
  "kernelspec": {
   "display_name": "Python 3 (ipykernel)",
   "language": "python",
   "name": "python3"
  },
  "language_info": {
   "codemirror_mode": {
    "name": "ipython",
    "version": 3
   },
   "file_extension": ".py",
   "mimetype": "text/x-python",
   "name": "python",
   "nbconvert_exporter": "python",
   "pygments_lexer": "ipython3",
   "version": "3.10.4"
  }
 },
 "nbformat": 4,
 "nbformat_minor": 5
}
