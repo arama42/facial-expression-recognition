{
  "cells": [
    {
      "cell_type": "markdown",
      "source": [
        "###Imports"
      ],
      "metadata": {
        "id": "VBDFJtscBKz6"
      },
      "id": "VBDFJtscBKz6"
    },
    {
      "cell_type": "code",
      "execution_count": 29,
      "id": "d7b13cfc",
      "metadata": {
        "id": "d7b13cfc"
      },
      "outputs": [],
      "source": [
        "import pandas as pd\n",
        "from math import sqrt\n",
        "import numpy as np\n",
        "from math import exp\n",
        "from math import pi\n",
        "from collections import Counter\n",
        "from sklearn.metrics import accuracy_score, ConfusionMatrixDisplay\n",
        "from sklearn.naive_bayes import GaussianNB"
      ]
    },
    {
      "cell_type": "markdown",
      "source": [
        "###Read Data"
      ],
      "metadata": {
        "id": "-07mspVwBOz2"
      },
      "id": "-07mspVwBOz2"
    },
    {
      "cell_type": "code",
      "execution_count": 7,
      "id": "3c4c29da",
      "metadata": {
        "id": "3c4c29da",
        "outputId": "9b0c220a-274a-410d-b848-fe50d083c03a",
        "colab": {
          "base_uri": "https://localhost:8080/"
        }
      },
      "outputs": [
        {
          "output_type": "stream",
          "name": "stdout",
          "text": [
            "(12271, 772)\n",
            "(3068, 772)\n"
          ]
        }
      ],
      "source": [
        "train_df = pd.read_csv('../data/Annotation/joined/joined_train.csv', index_col='id')\n",
        "test_df = pd.read_csv('..//data/Annotation/joined/joined_test.csv', index_col='id')\n",
        "print(train_df.shape)\n",
        "print(test_df.shape)"
      ]
    },
    {
      "cell_type": "markdown",
      "source": [
        "###Setting up baseline using sklearn's GaussianNB"
      ],
      "metadata": {
        "id": "Dv8eQVfJA9I4"
      },
      "id": "Dv8eQVfJA9I4"
    },
    {
      "cell_type": "code",
      "execution_count": 11,
      "id": "a0d494fc",
      "metadata": {
        "id": "a0d494fc",
        "outputId": "fa6a3159-d763-45aa-a2e2-19a850aaaab7",
        "colab": {
          "base_uri": "https://localhost:8080/"
        }
      },
      "outputs": [
        {
          "output_type": "execute_result",
          "data": {
            "text/plain": [
              "GaussianNB()"
            ]
          },
          "metadata": {},
          "execution_count": 11
        }
      ],
      "source": [
        "clf = GaussianNB()\n",
        "label = train_df['label']\n",
        "features = train_df.drop(columns=['label'])\n",
        "clf.fit(features, label)"
      ]
    },
    {
      "cell_type": "code",
      "execution_count": 12,
      "id": "47f67434",
      "metadata": {
        "id": "47f67434"
      },
      "outputs": [],
      "source": [
        "test_label = test_df['label']\n",
        "test_feat = test_df.drop(columns=['label'])\n",
        "pred = clf.predict(test_feat)"
      ]
    },
    {
      "cell_type": "code",
      "execution_count": 13,
      "id": "f8e7678e",
      "metadata": {
        "id": "f8e7678e",
        "outputId": "f223e084-8dc8-4556-c63a-6de6f0f6ce82",
        "colab": {
          "base_uri": "https://localhost:8080/"
        }
      },
      "outputs": [
        {
          "output_type": "execute_result",
          "data": {
            "text/plain": [
              "0.3644067796610169"
            ]
          },
          "metadata": {},
          "execution_count": 13
        }
      ],
      "source": [
        "acc_sklearn = accuracy_score(test_label, pred)\n",
        "acc_sklearn"
      ]
    },
    {
      "cell_type": "code",
      "source": [
        "ConfusionMatrixDisplay.from_predictions(test_label, pred)"
      ],
      "metadata": {
        "colab": {
          "base_uri": "https://localhost:8080/",
          "height": 297
        },
        "id": "TTwLw6oQA4ks",
        "outputId": "9eb49b41-8289-40a7-dccb-d95996c6a3ba"
      },
      "id": "TTwLw6oQA4ks",
      "execution_count": 15,
      "outputs": [
        {
          "output_type": "execute_result",
          "data": {
            "text/plain": [
              "<sklearn.metrics._plot.confusion_matrix.ConfusionMatrixDisplay at 0x7fccc4678400>"
            ]
          },
          "metadata": {},
          "execution_count": 15
        },
        {
          "output_type": "display_data",
          "data": {
            "text/plain": [
              "<Figure size 432x288 with 2 Axes>"
            ],
            "image/png": "[encoded data removed]"
          },
          "metadata": {
            "needs_background": "light"
          }
        }
      ]
    },
    {
      "cell_type": "markdown",
      "source": [
        "###Naive Bayes Algorithm"
      ],
      "metadata": {
        "id": "pvvXyQxJBm-_"
      },
      "id": "pvvXyQxJBm-_"
    },
    {
      "cell_type": "code",
      "execution_count": 16,
      "id": "fec01396",
      "metadata": {
        "id": "fec01396"
      },
      "outputs": [],
      "source": [
        "def naive_bayes(train, test):\n",
        "    train_summary = summarize_by_class(train)\n",
        "    predictions = list()\n",
        "    for idx, row in test.iterrows():\n",
        "        output = predict(train_summary, row)\n",
        "        predictions.append(output)\n",
        "    return(predictions)"
      ]
    },
    {
      "cell_type": "code",
      "execution_count": 17,
      "id": "3cb0aa40",
      "metadata": {
        "id": "3cb0aa40"
      },
      "outputs": [],
      "source": [
        "'''\n",
        "1. split the data by class label\n",
        "2. calcualte statistical summaries (mean & standard deviation) for each row \n",
        "'''\n",
        "def summarize_by_class(data):\n",
        "    split = split_by_class(data)\n",
        "    summaries = dict()\n",
        "    for cls, rows in split.items():\n",
        "        summaries[cls] = summarize_data(rows)\n",
        "    return summaries"
      ]
    },
    {
      "cell_type": "code",
      "execution_count": 18,
      "id": "aaeacfac",
      "metadata": {
        "id": "aaeacfac"
      },
      "outputs": [],
      "source": [
        "# Split the data by class label\n",
        "def split_by_class(data):\n",
        "    split = dict()\n",
        "    for i in range(len(data)):\n",
        "        row = data.iloc[i]\n",
        "        cls = row['label']\n",
        "        if (cls not in split):\n",
        "            split[cls] = list()\n",
        "        split[cls].append(row.drop('label'))\n",
        "    return split"
      ]
    },
    {
      "cell_type": "code",
      "execution_count": 20,
      "id": "3db07ba8",
      "metadata": {
        "id": "3db07ba8"
      },
      "outputs": [],
      "source": [
        "# Calculate the mean, standard deviation and count for each column\n",
        "def summarize_data(data):\n",
        "    return [(calculate_mean(column), calculate_stdev(column), len(column)) for column in zip(*data)]"
      ]
    },
    {
      "cell_type": "code",
      "execution_count": 21,
      "id": "05dd2c1e",
      "metadata": {
        "id": "05dd2c1e"
      },
      "outputs": [],
      "source": [
        "def calculate_mean(numbers):\n",
        "  return sum(numbers)/float(len(numbers)) if len(numbers) != 0 else 0"
      ]
    },
    {
      "cell_type": "code",
      "execution_count": 22,
      "id": "16fec87e",
      "metadata": {
        "id": "16fec87e"
      },
      "outputs": [],
      "source": [
        "def calculate_stdev(numbers):\n",
        "    avg = calculate_mean(numbers)\n",
        "    var = sum([(x-avg)**2 for x in numbers]) / float(len(numbers)-1)\n",
        "    return sqrt(var)"
      ]
    },
    {
      "cell_type": "code",
      "execution_count": 23,
      "id": "8fb73337",
      "metadata": {
        "id": "8fb73337"
      },
      "outputs": [],
      "source": [
        "# Predict the label for the given row\n",
        "def predict(summaries, row):\n",
        "    probabilities = calculate_class_probabilities(summaries, row)\n",
        "    best_label, best_prob = None, -1\n",
        "    for class_value, probability in probabilities.items():\n",
        "        if best_label is None or probability > best_prob:\n",
        "            best_prob = probability\n",
        "            best_label = class_value\n",
        "    return best_label"
      ]
    },
    {
      "cell_type": "code",
      "execution_count": 24,
      "id": "8e0674da",
      "metadata": {
        "id": "8e0674da"
      },
      "outputs": [],
      "source": [
        "# Calculate the probabilities of predicting each class for the given row\n",
        "def calculate_class_probabilities(summaries, row):\n",
        "    total_rows = sum([summaries[key][0][2] for key in summaries])\n",
        "    prob = dict()\n",
        "    for cls, summary in summaries.items():\n",
        "      #priors\n",
        "      prob[cls] = summaries[cls][0][2] /float(total_rows)\n",
        "      \n",
        "      for i in range(len(summary)):\n",
        "          mean, stdev, _ = summary[i]\n",
        "          prob[cls] *= calculate_probability(row[i], mean, stdev)\n",
        "            \n",
        "    return prob"
      ]
    },
    {
      "cell_type": "code",
      "execution_count": 25,
      "id": "e2db2256",
      "metadata": {
        "id": "e2db2256"
      },
      "outputs": [],
      "source": [
        "# Calculate the Gaussian probability distribution\n",
        "def calculate_probability(x, mean, stdev):\n",
        "  #smoothing in case all values are the same - may happen in case of DLPCNN and\n",
        "  #other auto feature-extraction outputs, where the resultant features are sparse\n",
        "  if stdev == 0:\n",
        "    stdev = 0.01\n",
        "  exponent = exp(-((x-mean)**2 / (2 * stdev**2 )))\n",
        "  return (1 / (sqrt(2 * pi) * stdev)) * exponent"
      ]
    },
    {
      "cell_type": "code",
      "source": [
        "pred = naive_bayes(train_df, test_df)"
      ],
      "metadata": {
        "id": "E2CeG2tgZDoO"
      },
      "id": "E2CeG2tgZDoO",
      "execution_count": 26,
      "outputs": []
    },
    {
      "cell_type": "code",
      "source": [
        "acc = accuracy_score(test_df['label'].tolist(), pred)\n",
        "acc"
      ],
      "metadata": {
        "colab": {
          "base_uri": "https://localhost:8080/"
        },
        "id": "GLybIPOJZITb",
        "outputId": "8f27fd98-7a72-4511-de32-4341fd354b23"
      },
      "id": "GLybIPOJZITb",
      "execution_count": 27,
      "outputs": [
        {
          "output_type": "execute_result",
          "data": {
            "text/plain": [
              "0.39015645371577573"
            ]
          },
          "metadata": {},
          "execution_count": 27
        }
      ]
    },
    {
      "cell_type": "code",
      "source": [
        "ConfusionMatrixDisplay.from_predictions(test_df['label'].tolist(), pred)"
      ],
      "metadata": {
        "colab": {
          "base_uri": "https://localhost:8080/",
          "height": 297
        },
        "id": "vQKxqUfaD9T4",
        "outputId": "32a7ec30-bb39-49f5-9026-7dd5ce77d389"
      },
      "id": "vQKxqUfaD9T4",
      "execution_count": 28,
      "outputs": [
        {
          "output_type": "execute_result",
          "data": {
            "text/plain": [
              "<sklearn.metrics._plot.confusion_matrix.ConfusionMatrixDisplay at 0x7fccc3fefeb0>"
            ]
          },
          "metadata": {},
          "execution_count": 28
        },
        {
          "output_type": "display_data",
          "data": {
            "text/plain": [
              "<Figure size 432x288 with 2 Axes>"
            ],
            "image/png": "[encoded data removed]"
          },
          "metadata": {
            "needs_background": "light"
          }
        }
      ]
    },
    {
      "cell_type": "code",
      "source": [
        "Counter(train_df['label'])"
      ],
      "metadata": {
        "colab": {
          "base_uri": "https://localhost:8080/"
        },
        "id": "OT1f2kMBE64e",
        "outputId": "2b10b964-58ff-4bc4-dd0a-a6d1f38f3d05"
      },
      "id": "OT1f2kMBE64e",
      "execution_count": 30,
      "outputs": [
        {
          "output_type": "execute_result",
          "data": {
            "text/plain": [
              "Counter({4: 4772, 5: 1982, 7: 2524, 1: 1290, 3: 717, 6: 705, 2: 281})"
            ]
          },
          "metadata": {},
          "execution_count": 30
        }
      ]
    },
    {
      "cell_type": "code",
      "source": [
        "Counter(test_df['label'])"
      ],
      "metadata": {
        "colab": {
          "base_uri": "https://localhost:8080/"
        },
        "id": "SbEVuAg3FY60",
        "outputId": "0d293481-605e-45f6-8a9b-2f6ea29ee8c2"
      },
      "id": "SbEVuAg3FY60",
      "execution_count": 31,
      "outputs": [
        {
          "output_type": "execute_result",
          "data": {
            "text/plain": [
              "Counter({4: 1185, 1: 329, 5: 478, 3: 160, 7: 680, 6: 162, 2: 74})"
            ]
          },
          "metadata": {},
          "execution_count": 31
        }
      ]
    },
    {
      "cell_type": "markdown",
      "source": [
        "###Remarks\n",
        "Looks like our model is predicting every sample as an\n",
        "instance of label 4 for some reason. Looking at the count of different labels, it looks like our data is skewed towards label 4, hence the prior probability of label 4 is much higher in comparison with the other classes.\n",
        "\n",
        "How to fix this? \n",
        "\n",
        "1.   Try undersampling/oversampling techniques\n",
        "2.   Use some kind of smoothing to balance out the disproportionate class distributions\n",
        "3. Explore more options\n",
        "\n",
        "\n"
      ],
      "metadata": {
        "id": "ji-jC-LvEakt"
      },
      "id": "ji-jC-LvEakt"
    }
  ],
  "metadata": {
    "kernelspec": {
      "display_name": "Python 3 (ipykernel)",
      "language": "python",
      "name": "python3"
    },
    "language_info": {
      "codemirror_mode": {
        "name": "ipython",
        "version": 3
      },
      "file_extension": ".py",
      "mimetype": "text/x-python",
      "name": "python",
      "nbconvert_exporter": "python",
      "pygments_lexer": "ipython3",
      "version": "3.9.12"
    },
    "colab": {
      "provenance": [],
      "toc_visible": true
    }
  },
  "nbformat": 4,
  "nbformat_minor": 5
}