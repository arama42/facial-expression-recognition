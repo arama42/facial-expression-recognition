{
 "cells": [
  {
   "cell_type": "markdown",
   "id": "VBDFJtscBKz6",
   "metadata": {
    "id": "VBDFJtscBKz6"
   },
   "source": [
    "###Imports"
   ]
  },
  {
   "cell_type": "code",
   "execution_count": 1,
   "id": "d7b13cfc",
   "metadata": {
    "id": "d7b13cfc"
   },
   "outputs": [],
   "source": [
    "import pandas as pd\n",
    "from math import sqrt\n",
    "import numpy as np\n",
    "from math import exp\n",
    "from math import pi\n",
    "from collections import Counter\n",
    "from sklearn.metrics import accuracy_score, ConfusionMatrixDisplay\n",
    "from sklearn.naive_bayes import GaussianNB"
   ]
  },
  {
   "cell_type": "markdown",
   "id": "-07mspVwBOz2",
   "metadata": {
    "id": "-07mspVwBOz2"
   },
   "source": [
    "### Read Data"
   ]
  },
  {
   "cell_type": "code",
   "execution_count": 2,
   "id": "3c4c29da",
   "metadata": {
    "colab": {
     "base_uri": "https://localhost:8080/"
    },
    "id": "3c4c29da",
    "outputId": "9b0c220a-274a-410d-b848-fe50d083c03a"
   },
   "outputs": [
    {
     "name": "stdout",
     "output_type": "stream",
     "text": [
      "(12271, 772)\n",
      "(3068, 772)\n"
     ]
    }
   ],
   "source": [
    "train_df = pd.read_csv('../data/Annotation/joined/joined_train.csv', index_col='id')\n",
    "test_df = pd.read_csv('..//data/Annotation/joined/joined_test.csv', index_col='id')\n",
    "print(train_df.shape)\n",
    "print(test_df.shape)"
   ]
  },
  {
   "cell_type": "markdown",
   "id": "Dv8eQVfJA9I4",
   "metadata": {
    "id": "Dv8eQVfJA9I4"
   },
   "source": [
    "### Setting up baseline using sklearn's GaussianNB"
   ]
  },
  {
   "cell_type": "code",
   "execution_count": 3,
   "id": "a0d494fc",
   "metadata": {
    "colab": {
     "base_uri": "https://localhost:8080/"
    },
    "id": "a0d494fc",
    "outputId": "fa6a3159-d763-45aa-a2e2-19a850aaaab7"
   },
   "outputs": [
    {
     "data": {
      "text/html": [
       "<style>#sk-container-id-1 {color: black;background-color: white;}#sk-container-id-1 pre{padding: 0;}#sk-container-id-1 div.sk-toggleable {background-color: white;}#sk-container-id-1 label.sk-toggleable__label {cursor: pointer;display: block;width: 100%;margin-bottom: 0;padding: 0.3em;box-sizing: border-box;text-align: center;}#sk-container-id-1 label.sk-toggleable__label-arrow:before {content: \"▸\";float: left;margin-right: 0.25em;color: #696969;}#sk-container-id-1 label.sk-toggleable__label-arrow:hover:before {color: black;}#sk-container-id-1 div.sk-estimator:hover label.sk-toggleable__label-arrow:before {color: black;}#sk-container-id-1 div.sk-toggleable__content {max-height: 0;max-width: 0;overflow: hidden;text-align: left;background-color: #f0f8ff;}#sk-container-id-1 div.sk-toggleable__content pre {margin: 0.2em;color: black;border-radius: 0.25em;background-color: #f0f8ff;}#sk-container-id-1 input.sk-toggleable__control:checked~div.sk-toggleable__content {max-height: 200px;max-width: 100%;overflow: auto;}#sk-container-id-1 input.sk-toggleable__control:checked~label.sk-toggleable__label-arrow:before {content: \"▾\";}#sk-container-id-1 div.sk-estimator input.sk-toggleable__control:checked~label.sk-toggleable__label {background-color: #d4ebff;}#sk-container-id-1 div.sk-label input.sk-toggleable__control:checked~label.sk-toggleable__label {background-color: #d4ebff;}#sk-container-id-1 input.sk-hidden--visually {border: 0;clip: rect(1px 1px 1px 1px);clip: rect(1px, 1px, 1px, 1px);height: 1px;margin: -1px;overflow: hidden;padding: 0;position: absolute;width: 1px;}#sk-container-id-1 div.sk-estimator {font-family: monospace;background-color: #f0f8ff;border: 1px dotted black;border-radius: 0.25em;box-sizing: border-box;margin-bottom: 0.5em;}#sk-container-id-1 div.sk-estimator:hover {background-color: #d4ebff;}#sk-container-id-1 div.sk-parallel-item::after {content: \"\";width: 100%;border-bottom: 1px solid gray;flex-grow: 1;}#sk-container-id-1 div.sk-label:hover label.sk-toggleable__label {background-color: #d4ebff;}#sk-container-id-1 div.sk-serial::before {content: \"\";position: absolute;border-left: 1px solid gray;box-sizing: border-box;top: 0;bottom: 0;left: 50%;z-index: 0;}#sk-container-id-1 div.sk-serial {display: flex;flex-direction: column;align-items: center;background-color: white;padding-right: 0.2em;padding-left: 0.2em;position: relative;}#sk-container-id-1 div.sk-item {position: relative;z-index: 1;}#sk-container-id-1 div.sk-parallel {display: flex;align-items: stretch;justify-content: center;background-color: white;position: relative;}#sk-container-id-1 div.sk-item::before, #sk-container-id-1 div.sk-parallel-item::before {content: \"\";position: absolute;border-left: 1px solid gray;box-sizing: border-box;top: 0;bottom: 0;left: 50%;z-index: -1;}#sk-container-id-1 div.sk-parallel-item {display: flex;flex-direction: column;z-index: 1;position: relative;background-color: white;}#sk-container-id-1 div.sk-parallel-item:first-child::after {align-self: flex-end;width: 50%;}#sk-container-id-1 div.sk-parallel-item:last-child::after {align-self: flex-start;width: 50%;}#sk-container-id-1 div.sk-parallel-item:only-child::after {width: 0;}#sk-container-id-1 div.sk-dashed-wrapped {border: 1px dashed gray;margin: 0 0.4em 0.5em 0.4em;box-sizing: border-box;padding-bottom: 0.4em;background-color: white;}#sk-container-id-1 div.sk-label label {font-family: monospace;font-weight: bold;display: inline-block;line-height: 1.2em;}#sk-container-id-1 div.sk-label-container {text-align: center;}#sk-container-id-1 div.sk-container {/* jupyter's `normalize.less` sets `[hidden] { display: none; }` but bootstrap.min.css set `[hidden] { display: none !important; }` so we also need the `!important` here to be able to override the default hidden behavior on the sphinx rendered scikit-learn.org. See: https://github.com/scikit-learn/scikit-learn/issues/21755 */display: inline-block !important;position: relative;}#sk-container-id-1 div.sk-text-repr-fallback {display: none;}</style><div id=\"sk-container-id-1\" class=\"sk-top-container\"><div class=\"sk-text-repr-fallback\"><pre>GaussianNB()</pre><b>In a Jupyter environment, please rerun this cell to show the HTML representation or trust the notebook. <br />On GitHub, the HTML representation is unable to render, please try loading this page with nbviewer.org.</b></div><div class=\"sk-container\" hidden><div class=\"sk-item\"><div class=\"sk-estimator sk-toggleable\"><input class=\"sk-toggleable__control sk-hidden--visually\" id=\"sk-estimator-id-1\" type=\"checkbox\" checked><label for=\"sk-estimator-id-1\" class=\"sk-toggleable__label sk-toggleable__label-arrow\">GaussianNB</label><div class=\"sk-toggleable__content\"><pre>GaussianNB()</pre></div></div></div></div></div>"
      ],
      "text/plain": [
       "GaussianNB()"
      ]
     },
     "execution_count": 3,
     "metadata": {},
     "output_type": "execute_result"
    }
   ],
   "source": [
    "clf = GaussianNB()\n",
    "label = train_df['label']\n",
    "features = train_df.drop(columns=['label'])\n",
    "clf.fit(features, label)"
   ]
  },
  {
   "cell_type": "code",
   "execution_count": 4,
   "id": "47f67434",
   "metadata": {
    "id": "47f67434"
   },
   "outputs": [],
   "source": [
    "test_label = test_df['label']\n",
    "test_feat = test_df.drop(columns=['label'])\n",
    "pred = clf.predict(test_feat)"
   ]
  },
  {
   "cell_type": "code",
   "execution_count": 5,
   "id": "f8e7678e",
   "metadata": {
    "colab": {
     "base_uri": "https://localhost:8080/"
    },
    "id": "f8e7678e",
    "outputId": "f223e084-8dc8-4556-c63a-6de6f0f6ce82"
   },
   "outputs": [
    {
     "data": {
      "text/plain": [
       "0.3644067796610169"
      ]
     },
     "execution_count": 5,
     "metadata": {},
     "output_type": "execute_result"
    }
   ],
   "source": [
    "acc_sklearn = accuracy_score(test_label, pred)\n",
    "acc_sklearn"
   ]
  },
  {
   "cell_type": "code",
   "execution_count": 6,
   "id": "TTwLw6oQA4ks",
   "metadata": {
    "colab": {
     "base_uri": "https://localhost:8080/",
     "height": 297
    },
    "id": "TTwLw6oQA4ks",
    "outputId": "9eb49b41-8289-40a7-dccb-d95996c6a3ba"
   },
   "outputs": [
    {
     "data": {
      "text/plain": [
       "<sklearn.metrics._plot.confusion_matrix.ConfusionMatrixDisplay at 0x15727caf0>"
      ]
     },
     "execution_count": 6,
     "metadata": {},
     "output_type": "execute_result"
    },
    {
     "data": {
      "image/png": "[encoded data removed]",
      "text/plain": [
       "<Figure size 640x480 with 2 Axes>"
      ]
     },
     "metadata": {},
     "output_type": "display_data"
    }
   ],
   "source": [
    "ConfusionMatrixDisplay.from_predictions(test_label, pred)"
   ]
  },
  {
   "cell_type": "markdown",
   "id": "pvvXyQxJBm-_",
   "metadata": {
    "id": "pvvXyQxJBm-_"
   },
   "source": [
    "### Naive Bayes Algorithm"
   ]
  },
  {
   "cell_type": "code",
   "execution_count": 7,
   "id": "fec01396",
   "metadata": {
    "id": "fec01396"
   },
   "outputs": [],
   "source": [
    "def naive_bayes(train, test):\n",
    "    train_summary = summarize_by_class(train)\n",
    "    predictions = list()\n",
    "    for idx, row in test.iterrows():\n",
    "        output = predict(train_summary, row)\n",
    "        predictions.append(output)\n",
    "    return(predictions)"
   ]
  },
  {
   "cell_type": "code",
   "execution_count": 8,
   "id": "3cb0aa40",
   "metadata": {
    "id": "3cb0aa40"
   },
   "outputs": [],
   "source": [
    "'''\n",
    "1. split the data by class label\n",
    "2. calcualte statistical summaries (mean & standard deviation) for each row \n",
    "'''\n",
    "def summarize_by_class(data):\n",
    "    split = split_by_class(data)\n",
    "    summaries = dict()\n",
    "    for cls, rows in split.items():\n",
    "        summaries[cls] = summarize_data(rows)\n",
    "    return summaries"
   ]
  },
  {
   "cell_type": "code",
   "execution_count": 9,
   "id": "aaeacfac",
   "metadata": {
    "id": "aaeacfac"
   },
   "outputs": [],
   "source": [
    "# Split the data by class label\n",
    "def split_by_class(data):\n",
    "    split = dict()\n",
    "    for i in range(len(data)):\n",
    "        row = data.iloc[i]\n",
    "        cls = row['label']\n",
    "        if (cls not in split):\n",
    "            split[cls] = list()\n",
    "        split[cls].append(row.drop('label'))\n",
    "    return split"
   ]
  },
  {
   "cell_type": "code",
   "execution_count": 10,
   "id": "3db07ba8",
   "metadata": {
    "id": "3db07ba8"
   },
   "outputs": [],
   "source": [
    "# Calculate the mean, standard deviation and count for each column\n",
    "def summarize_data(data):\n",
    "    return [(calculate_mean(column), calculate_stdev(column), len(column)) for column in zip(*data)]"
   ]
  },
  {
   "cell_type": "code",
   "execution_count": 11,
   "id": "05dd2c1e",
   "metadata": {
    "id": "05dd2c1e"
   },
   "outputs": [],
   "source": [
    "def calculate_mean(numbers):\n",
    "  return sum(numbers)/float(len(numbers)) if len(numbers) != 0 else 0"
   ]
  },
  {
   "cell_type": "code",
   "execution_count": 12,
   "id": "16fec87e",
   "metadata": {
    "id": "16fec87e"
   },
   "outputs": [],
   "source": [
    "def calculate_stdev(numbers):\n",
    "    avg = calculate_mean(numbers)\n",
    "    var = sum([(x-avg)**2 for x in numbers]) / float(len(numbers)-1)\n",
    "    return sqrt(var)"
   ]
  },
  {
   "cell_type": "code",
   "execution_count": 13,
   "id": "8fb73337",
   "metadata": {
    "id": "8fb73337"
   },
   "outputs": [],
   "source": [
    "# Predict the label for the given row\n",
    "def predict(summaries, row):\n",
    "    probabilities = calculate_class_probabilities(summaries, row)\n",
    "    best_label, best_prob = None, -1\n",
    "    for class_value, probability in probabilities.items():\n",
    "        if best_label is None or probability > best_prob:\n",
    "            best_prob = probability\n",
    "            best_label = class_value\n",
    "    return best_label"
   ]
  },
  {
   "cell_type": "code",
   "execution_count": 14,
   "id": "8e0674da",
   "metadata": {
    "id": "8e0674da"
   },
   "outputs": [],
   "source": [
    "# Calculate the probabilities of predicting each class for the given row\n",
    "def calculate_class_probabilities(summaries, row):\n",
    "    total_rows = sum([summaries[key][0][2] for key in summaries])\n",
    "    prob = dict()\n",
    "    for cls, summary in summaries.items():\n",
    "      #priors\n",
    "      prob[cls] = summaries[cls][0][2] /float(total_rows)\n",
    "      \n",
    "      for i in range(len(summary)):\n",
    "          mean, stdev, _ = summary[i]\n",
    "          prob[cls] *= calculate_probability(row[i], mean, stdev)\n",
    "            \n",
    "    return prob"
   ]
  },
  {
   "cell_type": "code",
   "execution_count": 15,
   "id": "e2db2256",
   "metadata": {
    "id": "e2db2256"
   },
   "outputs": [],
   "source": [
    "# Calculate the Gaussian probability distribution\n",
    "def calculate_probability(x, mean, stdev):\n",
    "  #smoothing in case all values are the same - may happen in case of DLPCNN and\n",
    "  #other auto feature-extraction outputs, where the resultant features are sparse\n",
    "  if stdev == 0:\n",
    "    stdev = 0.01\n",
    "  exponent = exp(-((x-mean)**2 / (2 * stdev**2 )))\n",
    "  return (1 / (sqrt(2 * pi) * stdev)) * exponent"
   ]
  },
  {
   "cell_type": "code",
   "execution_count": 16,
   "id": "E2CeG2tgZDoO",
   "metadata": {
    "id": "E2CeG2tgZDoO"
   },
   "outputs": [],
   "source": [
    "pred = naive_bayes(train_df, test_df)"
   ]
  },
  {
   "cell_type": "code",
   "execution_count": 17,
   "id": "GLybIPOJZITb",
   "metadata": {
    "colab": {
     "base_uri": "https://localhost:8080/"
    },
    "id": "GLybIPOJZITb",
    "outputId": "8f27fd98-7a72-4511-de32-4341fd354b23"
   },
   "outputs": [
    {
     "data": {
      "text/plain": [
       "0.3898305084745763"
      ]
     },
     "execution_count": 17,
     "metadata": {},
     "output_type": "execute_result"
    }
   ],
   "source": [
    "acc = accuracy_score(test_df['label'].tolist(), pred)\n",
    "acc"
   ]
  },
  {
   "cell_type": "code",
   "execution_count": 18,
   "id": "vQKxqUfaD9T4",
   "metadata": {
    "colab": {
     "base_uri": "https://localhost:8080/",
     "height": 297
    },
    "id": "vQKxqUfaD9T4",
    "outputId": "32a7ec30-bb39-49f5-9026-7dd5ce77d389"
   },
   "outputs": [
    {
     "data": {
      "text/plain": [
       "<sklearn.metrics._plot.confusion_matrix.ConfusionMatrixDisplay at 0x17ec15b70>"
      ]
     },
     "execution_count": 18,
     "metadata": {},
     "output_type": "execute_result"
    },
    {
     "data": {
      "image/png": "[encoded data removed]",
      "text/plain": [
       "<Figure size 640x480 with 2 Axes>"
      ]
     },
     "metadata": {},
     "output_type": "display_data"
    }
   ],
   "source": [
    "ConfusionMatrixDisplay.from_predictions(test_df['label'].tolist(), pred)"
   ]
  },
  {
   "cell_type": "code",
   "execution_count": 19,
   "id": "OT1f2kMBE64e",
   "metadata": {
    "colab": {
     "base_uri": "https://localhost:8080/"
    },
    "id": "OT1f2kMBE64e",
    "outputId": "2b10b964-58ff-4bc4-dd0a-a6d1f38f3d05"
   },
   "outputs": [
    {
     "data": {
      "text/plain": [
       "Counter({3: 4772, 4: 1982, 6: 2524, 0: 1290, 2: 717, 5: 705, 1: 281})"
      ]
     },
     "execution_count": 19,
     "metadata": {},
     "output_type": "execute_result"
    }
   ],
   "source": [
    "Counter(train_df['label'])"
   ]
  },
  {
   "cell_type": "code",
   "execution_count": 20,
   "id": "SbEVuAg3FY60",
   "metadata": {
    "colab": {
     "base_uri": "https://localhost:8080/"
    },
    "id": "SbEVuAg3FY60",
    "outputId": "0d293481-605e-45f6-8a9b-2f6ea29ee8c2"
   },
   "outputs": [
    {
     "data": {
      "text/plain": [
       "Counter({3: 1185, 0: 329, 4: 478, 2: 160, 6: 680, 5: 162, 1: 74})"
      ]
     },
     "execution_count": 20,
     "metadata": {},
     "output_type": "execute_result"
    }
   ],
   "source": [
    "Counter(test_df['label'])"
   ]
  },
  {
   "cell_type": "code",
   "execution_count": 24,
   "id": "2ae07659-dcb8-43b7-8aa1-b707ab7aa614",
   "metadata": {},
   "outputs": [],
   "source": [
    "import os\n",
    "from sklearn.metrics import classification_report\n",
    "\n",
    "def print_classification_report(y_true, y_pred):\n",
    "    cls_report = classification_report(y_true, y_pred)\n",
    "    print('\\nClassification Report')\n",
    "    print('======================================================')\n",
    "    print('\\n', cls_report)\n",
    "    with open(os.path.join('../metrics', 'nb.txt'), 'w') as f:\n",
    "        f.write(cls_report)"
   ]
  },
  {
   "cell_type": "code",
   "execution_count": 25,
   "id": "97bff3c3-7638-4682-90e4-608f3481a42d",
   "metadata": {},
   "outputs": [
    {
     "name": "stdout",
     "output_type": "stream",
     "text": [
      "\n",
      "Classification Report\n",
      "======================================================\n",
      "\n",
      "               precision    recall  f1-score   support\n",
      "\n",
      "           0       0.27      0.02      0.03       329\n",
      "           1       0.20      0.07      0.10        74\n",
      "           2       0.00      0.00      0.00       160\n",
      "           3       0.40      0.98      0.56      1185\n",
      "           4       0.27      0.04      0.08       478\n",
      "           5       0.25      0.01      0.02       162\n",
      "           6       0.67      0.00      0.01       680\n",
      "\n",
      "    accuracy                           0.39      3068\n",
      "   macro avg       0.29      0.16      0.11      3068\n",
      "weighted avg       0.39      0.39      0.24      3068\n",
      "\n"
     ]
    },
    {
     "name": "stderr",
     "output_type": "stream",
     "text": [
      "/Users/kushal/opt/anaconda3/envs/jupyter_lab/lib/python3.10/site-packages/sklearn/metrics/_classification.py:1334: UndefinedMetricWarning: Precision and F-score are ill-defined and being set to 0.0 in labels with no predicted samples. Use `zero_division` parameter to control this behavior.\n",
      "  _warn_prf(average, modifier, msg_start, len(result))\n",
      "/Users/kushal/opt/anaconda3/envs/jupyter_lab/lib/python3.10/site-packages/sklearn/metrics/_classification.py:1334: UndefinedMetricWarning: Precision and F-score are ill-defined and being set to 0.0 in labels with no predicted samples. Use `zero_division` parameter to control this behavior.\n",
      "  _warn_prf(average, modifier, msg_start, len(result))\n",
      "/Users/kushal/opt/anaconda3/envs/jupyter_lab/lib/python3.10/site-packages/sklearn/metrics/_classification.py:1334: UndefinedMetricWarning: Precision and F-score are ill-defined and being set to 0.0 in labels with no predicted samples. Use `zero_division` parameter to control this behavior.\n",
      "  _warn_prf(average, modifier, msg_start, len(result))\n"
     ]
    }
   ],
   "source": [
    "print_classification_report(test_df['label'].tolist(), pred)"
   ]
  },
  {
   "cell_type": "markdown",
   "id": "ji-jC-LvEakt",
   "metadata": {
    "id": "ji-jC-LvEakt",
    "jp-MarkdownHeadingCollapsed": true,
    "tags": []
   },
   "source": [
    "### Remarks\n",
    "Looks like our model is predicting every sample as an\n",
    "instance of label 4 for some reason. Looking at the count of different labels, it looks like our data is skewed towards label 4, hence the prior probability of label 4 is much higher in comparison with the other classes.\n",
    "\n",
    "How to fix this? \n",
    "\n",
    "1.   Try undersampling/oversampling techniques\n",
    "2.   Use some kind of smoothing to balance out the disproportionate class distributions\n",
    "3. Explore more options\n",
    "\n",
    "\n"
   ]
  }
 ],
 "metadata": {
  "colab": {
   "provenance": [],
   "toc_visible": true
  },
  "kernelspec": {
   "display_name": "Python 3 (ipykernel)",
   "language": "python",
   "name": "python3"
  },
  "language_info": {
   "codemirror_mode": {
    "name": "ipython",
    "version": 3
   },
   "file_extension": ".py",
   "mimetype": "text/x-python",
   "name": "python",
   "nbconvert_exporter": "python",
   "pygments_lexer": "ipython3",
   "version": "3.10.4"
  }
 },
 "nbformat": 4,
 "nbformat_minor": 5
}
