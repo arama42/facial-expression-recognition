{
 "cells": [
  {
   "cell_type": "code",
   "execution_count": 3,
   "id": "f57c63c4",
   "metadata": {},
   "outputs": [],
   "source": [
    "%%capture installations\n",
    "pip install MediaPipe"
   ]
  },
  {
   "cell_type": "code",
   "execution_count": 4,
   "id": "b05a33bb",
   "metadata": {},
   "outputs": [],
   "source": [
    "import glob\n",
    "import cv2\n",
    "import mediapipe as mp\n",
    "import pandas as pd\n",
    "import csv\n",
    "import json\n",
    "import numpy as np"
   ]
  },
  {
   "cell_type": "code",
   "execution_count": 5,
   "id": "0e789a35",
   "metadata": {},
   "outputs": [
    {
     "name": "stdout",
     "output_type": "stream",
     "text": [
      "12271\n",
      "3068\n"
     ]
    }
   ],
   "source": [
    "TRAIN_IMAGE_FILES = {}\n",
    "TEST_IMAGE_FILES = {}\n",
    "for filename in glob.glob('<filepath>/aligned/*'):\n",
    "    key = filename.split(\"_\")[1]\n",
    "    if 'test' in filename:\n",
    "        TEST_IMAGE_FILES.update({key: filename})\n",
    "    elif 'train' in filename:\n",
    "        TRAIN_IMAGE_FILES.update({key: filename})\n",
    "print(len(TRAIN_IMAGE_FILES))\n",
    "print(len(TEST_IMAGE_FILES))"
   ]
  },
  {
   "cell_type": "code",
   "execution_count": 18,
   "id": "27e072c6",
   "metadata": {},
   "outputs": [],
   "source": [
    "#function definition - generate_landmarks()\n",
    "def generate_landmarks(dict_files, isTest=False):\n",
    "    mp_drawing = mp.solutions.drawing_utils\n",
    "    mp_drawing_styles = mp.solutions.drawing_styles\n",
    "    mp_face_mesh = mp.solutions.face_mesh\n",
    "    drawing_spec = mp_drawing.DrawingSpec(thickness=1, circle_radius=1)\n",
    "    missing_landmark_samples = {}\n",
    "    landmarks_dict = {}\n",
    "    filePath = '<filepath>/facemesh/images_test/' if isTest else '<filepath>/facemesh/images_train/'\n",
    "    with mp_face_mesh.FaceMesh(\n",
    "    static_image_mode=True,\n",
    "    max_num_faces=1,\n",
    "    refine_landmarks=True,\n",
    "    min_detection_confidence=0.5) as face_mesh:\n",
    "        \n",
    "         for idx, file in dict_files.items():\n",
    "            image = cv2.imread(file)\n",
    "            # Convert the BGR image to RGB before processing.\n",
    "            results = face_mesh.process(cv2.cvtColor(image, cv2.COLOR_BGR2RGB))\n",
    "\n",
    "            # Print and draw face mesh landmarks on the image.\n",
    "            if not results.multi_face_landmarks:\n",
    "                missing_landmark_samples.update({idx: file})\n",
    "                continue\n",
    "            annotated_image = image.copy()\n",
    "            for face_landmarks in results.multi_face_landmarks:\n",
    "                row = str(face_landmarks).replace('landmark', \"\").replace('}', \"\").replace('{', \"\").replace('\\n', \"\").strip().replace('x: ', '').replace('y: ', '').replace('z: ', '').split('  ')\n",
    "                row = [float(x) for x in row] \n",
    "                landmarks_dict.update({idx: row})\n",
    "                mp_drawing.draw_landmarks(\n",
    "                    image=annotated_image,\n",
    "                    landmark_list=face_landmarks,\n",
    "                    connections=mp_face_mesh.FACEMESH_TESSELATION,\n",
    "                    landmark_drawing_spec=None,\n",
    "                    connection_drawing_spec=mp_drawing_styles.get_default_face_mesh_tesselation_style())\n",
    "                mp_drawing.draw_landmarks(\n",
    "                    image=annotated_image,\n",
    "                    landmark_list=face_landmarks,\n",
    "                    connections=mp_face_mesh.FACEMESH_CONTOURS,\n",
    "                    landmark_drawing_spec=None,\n",
    "                    connection_drawing_spec=mp_drawing_styles.get_default_face_mesh_contours_style())\n",
    "                mp_drawing.draw_landmarks(\n",
    "                    image=annotated_image,\n",
    "                    landmark_list=face_landmarks,\n",
    "                    connections=mp_face_mesh.FACEMESH_IRISES,\n",
    "                    landmark_drawing_spec=None,\n",
    "                    connection_drawing_spec=mp_drawing_styles.get_default_face_mesh_iris_connections_style())\n",
    "            cv2.imwrite(filePath + 'annotated_image_' + str(idx) + '.png', annotated_image)\n",
    "    \n",
    "    return landmarks_dict, missing_landmark_samples"
   ]
  },
  {
   "cell_type": "code",
   "execution_count": 20,
   "id": "a52ab6c1",
   "metadata": {},
   "outputs": [],
   "source": [
    "landmarks_dict_train, missing_dict_train = generate_landmarks(TRAIN_IMAGE_FILES)\n",
    "df1 = pd.DataFrame(landmarks_dict_train)\n",
    "df1_T = df1.T\n",
    "df1_T.to_csv('<filepath>/facemesh/landmarks_train.csv')\n",
    "df2 = pd.DataFrame([missing_dict_train])\n",
    "df2_T = df2.T\n",
    "df2_T.to_csv('<filepath>/facemesh/missing_train.csv')\n",
    "\n",
    "landmarks_dict_test, missing_dict_test = generate_landmarks(TEST_IMAGE_FILES, isTest=True)\n",
    "df3 = pd.DataFrame(landmarks_dict_test)\n",
    "df3_T = df3.T\n",
    "df3_T.to_csv('<filepath>/facemesh/landmarks_test.csv')\n",
    "df4 = pd.DataFrame([missing_dict_test])\n",
    "df4_T = df4.T\n",
    "df4_T.to_csv('<filepath>/facemesh/missing_test.csv')\n",
    "\n",
    "\n",
    "\n",
    "\n",
    "   \n",
    "       "
   ]
  }
 ],
 "metadata": {
  "kernelspec": {
   "display_name": "Python 3 (ipykernel)",
   "language": "python",
   "name": "python3"
  },
  "language_info": {
   "codemirror_mode": {
    "name": "ipython",
    "version": 3
   },
   "file_extension": ".py",
   "mimetype": "text/x-python",
   "name": "python",
   "nbconvert_exporter": "python",
   "pygments_lexer": "ipython3",
   "version": "3.9.12"
  }
 },
 "nbformat": 4,
 "nbformat_minor": 5
}
